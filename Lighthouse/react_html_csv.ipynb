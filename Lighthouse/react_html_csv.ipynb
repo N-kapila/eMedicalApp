{
 "cells": [
  {
   "cell_type": "code",
   "execution_count": 2,
   "metadata": {},
   "outputs": [],
   "source": [
    "from bs4 import BeautifulSoup\n",
    "import pandas as pd\n",
    "import re\n",
    "import os\n",
    "\n",
    "# Directory containing HTML files\n",
    "html_files_directory = '/Users/nirmalkapilarathne/Desktop/lighthouse_dekstop/React'\n",
    "\n",
    "# Initialize an empty list to store DataFrames\n",
    "all_data_frames = []\n",
    "\n",
    "# Iterate over HTML files in the directory\n",
    "for filename in os.listdir(html_files_directory):\n",
    "    if filename.endswith(\".html\"):\n",
    "        file_path = os.path.join(html_files_directory, filename)\n",
    "        print(\"Processing file:\", file_path)\n",
    "\n",
    "        # Read HTML content from the file\n",
    "        with open(file_path, 'r', encoding='utf-8') as file:\n",
    "            html_content = file.read()\n",
    "\n",
    "        # Parse HTML with BeautifulSoup\n",
    "        soup = BeautifulSoup(html_content, 'html.parser')\n",
    "\n",
    "        # Extract data\n",
    "        data = {}\n",
    "        metrics = [\"First Contentful Paint\", \"Largest Contentful Paint\",\n",
    "                   \"Total Blocking Time\", \"Cumulative Layout Shift\", \"Speed Index\"]\n",
    "\n",
    "        for metric in metrics:\n",
    "            pattern = re.compile(f'{metric}.*?\"displayValue\":\"(.*?)\"')\n",
    "            match = pattern.search(html_content)\n",
    "            if match:\n",
    "                value = match.group(1).strip()\n",
    "                data[metric] = value\n",
    "                print(f\"Extracted {metric}: {value}\")\n",
    "\n",
    "        # Extract performance score\n",
    "        performance_pattern = re.compile(r'\"id\":\"performance\",\"score\":(.*?)}')\n",
    "        performance_match = performance_pattern.search(html_content)\n",
    "        if performance_match:\n",
    "            performance_score = float(performance_match.group(1)) * 100\n",
    "            data['Performance'] = performance_score\n",
    "            print(\"Extracted Performance Score:\", performance_score)\n",
    "\n",
    "        # Append data to the list\n",
    "        all_data_frames.append(pd.DataFrame([data]))\n",
    "        print(\"Data extracted from file:\", filename)\n",
    "\n",
    "# Concatenate all DataFrames into a single DataFrame\n",
    "all_data = pd.concat(all_data_frames, ignore_index=True)\n",
    "\n",
    "# Save to CSV\n",
    "all_data.to_csv('react_all_performance_metrics.csv', index=False)\n",
    "print(\"Data saved to CSV file: react_all_performance_metrics.csv\")\n"
   ]
  },
  {
   "cell_type": "code",
   "execution_count": null,
   "metadata": {},
   "outputs": [],
   "source": []
  }
 ],
 "metadata": {
  "kernelspec": {
   "display_name": "Python 3 (ipykernel)",
   "language": "python",
   "name": "python3"
  },
  "language_info": {
   "codemirror_mode": {
    "name": "ipython",
    "version": 3
   },
   "file_extension": ".py",
   "mimetype": "text/x-python",
   "name": "python",
   "nbconvert_exporter": "python",
   "pygments_lexer": "ipython3",
   "version": "3.11.5"
  }
 },
 "nbformat": 4,
 "nbformat_minor": 2
}
